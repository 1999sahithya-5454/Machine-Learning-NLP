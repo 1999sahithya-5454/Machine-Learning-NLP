{
  "nbformat": 4,
  "nbformat_minor": 0,
  "metadata": {
    "colab": {
      "name": "Word2vec_starter-2.ipynb",
      "provenance": [],
      "collapsed_sections": []
    },
    "kernelspec": {
      "display_name": "Python 3",
      "language": "python",
      "name": "python3"
    },
    "language_info": {
      "codemirror_mode": {
        "name": "ipython",
        "version": 3
      },
      "file_extension": ".py",
      "mimetype": "text/x-python",
      "name": "python",
      "nbconvert_exporter": "python",
      "pygments_lexer": "ipython3",
      "version": "3.7.6"
    },
    "nbTranslate": {
      "displayLangs": [
        "*"
      ],
      "hotkey": "alt-t",
      "langInMainMenu": true,
      "sourceLang": "en",
      "targetLang": "fr",
      "useGoogleTranslate": true
    }
  },
  "cells": [
    {
      "cell_type": "markdown",
      "metadata": {
        "id": "Op0ecsJvVjlQ"
      },
      "source": [
        "The objective of this experiment is to understand word2vec."
      ]
    },
    {
      "cell_type": "markdown",
      "metadata": {
        "id": "q2sI1Y6kVjlR"
      },
      "source": [
        "In this experiment we will use **Mahabharata** as our text corpus"
      ]
    },
    {
      "cell_type": "markdown",
      "metadata": {
        "id": "ZtolTYDtVjlS"
      },
      "source": [
        "##### Importing the required packages"
      ]
    },
    {
      "cell_type": "code",
      "metadata": {
        "ExecuteTime": {
          "end_time": "2018-06-30T05:36:58.471881Z",
          "start_time": "2018-06-30T05:36:58.465484Z"
        },
        "id": "MeHMgdVVVjlT"
      },
      "source": [
        "import gensim\n",
        "# Operating System\n",
        "import os\n",
        "# Regular Expression\n",
        "import re\n",
        "# nltk packages\n",
        "from nltk.tokenize import sent_tokenize, word_tokenize\n",
        "from nltk.stem.porter import *\n",
        "from nltk.stem.snowball import SnowballStemmer\n",
        "# Basic Packages\n",
        "import pandas as pd\n",
        "import numpy as np\n",
        "from matplotlib import pyplot as plt\n",
        "# PCA Package\n",
        "from sklearn.decomposition import PCA"
      ],
      "execution_count": 1,
      "outputs": []
    },
    {
      "cell_type": "markdown",
      "metadata": {
        "id": "ux4IHEsKVjlW"
      },
      "source": [
        "Snowball is a small string processing language designed for creating stemming algorithms for use in Information Retrieval. "
      ]
    },
    {
      "cell_type": "markdown",
      "metadata": {
        "id": "eStdDDQaVjlW"
      },
      "source": [
        "##### Creating a new instance of a language specific subclass."
      ]
    },
    {
      "cell_type": "code",
      "metadata": {
        "ExecuteTime": {
          "end_time": "2018-06-30T05:37:28.281061Z",
          "start_time": "2018-06-30T05:37:28.276619Z"
        },
        "id": "I2x7x6N8VjlX"
      },
      "source": [
        "stemmer = SnowballStemmer(\"english\")"
      ],
      "execution_count": 2,
      "outputs": []
    },
    {
      "cell_type": "markdown",
      "metadata": {
        "id": "LUUNFlp1VjlY"
      },
      "source": [
        "##### In below cell we are trying to pre-process the text data and not stemming the stop words"
      ]
    },
    {
      "cell_type": "code",
      "metadata": {
        "ExecuteTime": {
          "end_time": "2018-06-30T05:41:28.851477Z",
          "start_time": "2018-06-30T05:41:28.842085Z"
        },
        "id": "aUw4YE6cVjlZ"
      },
      "source": [
        "stopWords = pd.read_csv('stopwords.txt').values\n",
        "\n",
        "class MySentences(object):\n",
        "    def __init__(self, fnamelist):\n",
        "        self.fnamelist = fnamelist\n",
        "        # Creating a set of vocabulary\n",
        "        self.vocabulary = set([])\n",
        "\n",
        "    def __iter__(self):\n",
        "        for fname in self.fnamelist:\n",
        "            for line in open(fname, encoding='latin1'):\n",
        "                # Find all the words that has letters from 2 - 15. If the words are longer than that ignore.\n",
        "                words = re.findall(r'(\\b[A-Za-z][a-z]{2,15}\\b)', line)\n",
        "                # Stemming a word.\n",
        "                words = [ stemmer.stem(word.lower()) for word in words if not word.lower() in stopWords]\n",
        "                for word in words:\n",
        "                    self.vocabulary.add(word)\n",
        "                yield words"
      ],
      "execution_count": 3,
      "outputs": []
    },
    {
      "cell_type": "markdown",
      "metadata": {
        "id": "NG2jG7itVjlb"
      },
      "source": [
        "##### In below cell we will read the data using an iterator in the class MySentences(). \n",
        "\n",
        "Gensim model: https://radimrehurek.com/gensim/models/word2vec.html"
      ]
    },
    {
      "cell_type": "code",
      "metadata": {
        "ExecuteTime": {
          "end_time": "2018-06-30T05:43:17.493895Z",
          "start_time": "2018-06-30T05:43:17.464137Z"
        },
        "id": "507Pc7_UVjlc"
      },
      "source": [
        "sentences = MySentences(['MB.txt']) # a memory-friendly iterator\n",
        "model = gensim.models.Word2Vec(sentences, min_count=100)\n",
        "model = model.save(\"MB2Vec.bin\")\n",
        "model_load = gensim.models.Word2Vec.load('MB2Vec.bin')"
      ],
      "execution_count": 4,
      "outputs": []
    },
    {
      "cell_type": "code",
      "metadata": {
        "id": "CFGPCACsYnlf"
      },
      "source": [
        "# model_load = model"
      ],
      "execution_count": null,
      "outputs": []
    },
    {
      "cell_type": "markdown",
      "metadata": {
        "id": "ez1FTOIbVjld"
      },
      "source": [
        "##### Lets see the most similar words related to different characters"
      ]
    },
    {
      "cell_type": "code",
      "metadata": {
        "ExecuteTime": {
          "end_time": "2018-06-30T05:45:06.801555Z",
          "start_time": "2018-06-30T05:45:06.792788Z"
        },
        "colab": {
          "base_uri": "https://localhost:8080/"
        },
        "id": "kNU3T0IpVjle",
        "outputId": "9823aa9c-78c8-416b-bafc-8fa89a8132da"
      },
      "source": [
        "model_load.wv.most_similar('krishna')[:3]"
      ],
      "execution_count": 5,
      "outputs": [
        {
          "output_type": "execute_result",
          "data": {
            "text/plain": [
              "[('kesava', 0.8121841549873352),\n",
              " ('vasudeva', 0.7725369334220886),\n",
              " ('govinda', 0.705391526222229)]"
            ]
          },
          "metadata": {},
          "execution_count": 5
        }
      ]
    },
    {
      "cell_type": "code",
      "metadata": {
        "ExecuteTime": {
          "end_time": "2018-06-30T05:47:34.528017Z",
          "start_time": "2018-06-30T05:47:34.520211Z"
        },
        "colab": {
          "base_uri": "https://localhost:8080/"
        },
        "id": "X3lgOT6eVjle",
        "outputId": "db9d0941-75c7-443b-e69b-e3cd62531d21"
      },
      "source": [
        "model_load.wv.most_similar('arjuna')[:3]"
      ],
      "execution_count": 6,
      "outputs": [
        {
          "output_type": "execute_result",
          "data": {
            "text/plain": [
              "[('partha', 0.8814092874526978),\n",
              " ('dhananjaya', 0.8428341746330261),\n",
              " ('vibhatsu', 0.827560305595398)]"
            ]
          },
          "metadata": {},
          "execution_count": 6
        }
      ]
    },
    {
      "cell_type": "code",
      "metadata": {
        "ExecuteTime": {
          "end_time": "2018-06-30T05:51:23.251064Z",
          "start_time": "2018-06-30T05:51:23.235495Z"
        },
        "colab": {
          "base_uri": "https://localhost:8080/"
        },
        "id": "3pqXdV8CVjlf",
        "outputId": "234469ec-e7db-4a5f-fe10-bf85e9444583"
      },
      "source": [
        "model_load.wv.most_similar('virata')[:3]"
      ],
      "execution_count": 7,
      "outputs": [
        {
          "output_type": "execute_result",
          "data": {
            "text/plain": [
              "[('drupada', 0.8713051676750183),\n",
              " ('chedi', 0.8249099850654602),\n",
              " ('kasi', 0.8184924125671387)]"
            ]
          },
          "metadata": {},
          "execution_count": 7
        }
      ]
    },
    {
      "cell_type": "markdown",
      "metadata": {
        "id": "ROdnHzltVjlf"
      },
      "source": [
        "##### We will save the trained vectors ."
      ]
    },
    {
      "cell_type": "code",
      "metadata": {
        "ExecuteTime": {
          "end_time": "2018-06-30T04:39:46.897701Z",
          "start_time": "2018-06-30T04:39:46.892679Z"
        },
        "id": "KUhEueNGVjlg"
      },
      "source": [
        "#model = model.save(\"MB2Vec.bin\")"
      ],
      "execution_count": null,
      "outputs": []
    },
    {
      "cell_type": "markdown",
      "metadata": {
        "id": "I3glFGOwVjlh"
      },
      "source": [
        "##### Iterating through the vocabulary and constructing the word and vector list"
      ]
    },
    {
      "cell_type": "code",
      "metadata": {
        "ExecuteTime": {
          "end_time": "2018-06-30T05:52:10.387941Z",
          "start_time": "2018-06-30T05:52:09.839935Z"
        },
        "id": "X4jhp_bPVjlh",
        "scrolled": true
      },
      "source": [
        "words_list = np.array([])\n",
        "vector_list = np.array([])\n",
        "for i in model_load.wv.vocab:\n",
        "    # print(i)\n",
        "    try :\n",
        "        words_list = np.append(words_list, i)\n",
        "        vector_list = np.append(vector_list, model_load.wv[i])\n",
        "    except :\n",
        "        pass\n",
        "vector_list = vector_list.reshape(len(model_load.wv.vocab), -1)"
      ],
      "execution_count": 8,
      "outputs": []
    },
    {
      "cell_type": "code",
      "metadata": {
        "ExecuteTime": {
          "end_time": "2018-06-30T05:52:10.656217Z",
          "start_time": "2018-06-30T05:52:10.644233Z"
        },
        "colab": {
          "base_uri": "https://localhost:8080/"
        },
        "id": "oq8tQUEOVjlj",
        "outputId": "ff4d42d5-9d10-4b92-8f62-cd1ac83cc2cf"
      },
      "source": [
        "vector_list"
      ],
      "execution_count": 9,
      "outputs": [
        {
          "output_type": "execute_result",
          "data": {
            "text/plain": [
              "array([[ 0.08934455,  0.1577087 ,  0.10928196, ...,  0.06659309,\n",
              "        -0.18730566,  0.0408443 ],\n",
              "       [ 0.00960101, -0.18176453,  0.75657958, ...,  0.39727277,\n",
              "        -0.29713699, -0.3019712 ],\n",
              "       [ 0.24288535,  0.34268048, -0.004009  , ...,  0.16819203,\n",
              "        -0.29780588,  0.08784001],\n",
              "       ...,\n",
              "       [-0.39574307,  0.03334375, -0.53665352, ...,  0.14169978,\n",
              "        -0.15535726,  0.22689809],\n",
              "       [-0.06705227,  0.41990551, -0.68623579, ..., -0.11718254,\n",
              "         0.43685609,  0.68196851],\n",
              "       [-0.20414992, -0.03195424, -0.29915854, ...,  0.10838486,\n",
              "        -0.21143138,  0.02838665]])"
            ]
          },
          "metadata": {},
          "execution_count": 9
        }
      ]
    },
    {
      "cell_type": "markdown",
      "metadata": {
        "id": "oFK6dlynVjlk"
      },
      "source": [
        "##### Applying PCA on the vector_list to reduce the dimensions"
      ]
    },
    {
      "cell_type": "code",
      "metadata": {
        "ExecuteTime": {
          "end_time": "2018-06-30T05:54:45.892434Z",
          "start_time": "2018-06-30T05:54:45.872925Z"
        },
        "id": "_vQNJnePVjlk"
      },
      "source": [
        "pca = PCA(n_components=2)\n",
        "pca.fit(vector_list)\n",
        "compressed_list =pca.transform(vector_list)"
      ],
      "execution_count": 10,
      "outputs": []
    },
    {
      "cell_type": "markdown",
      "metadata": {
        "id": "M2Ap1190Vjll"
      },
      "source": [
        "##### Checking the shape of the vector_list"
      ]
    },
    {
      "cell_type": "code",
      "metadata": {
        "ExecuteTime": {
          "end_time": "2018-06-30T05:55:00.159024Z",
          "start_time": "2018-06-30T05:55:00.153531Z"
        },
        "colab": {
          "base_uri": "https://localhost:8080/"
        },
        "id": "lHiJ_7v7Vjlm",
        "outputId": "8053384c-53e3-4131-eead-06d7c7db514e"
      },
      "source": [
        "vector_list.shape"
      ],
      "execution_count": 11,
      "outputs": [
        {
          "output_type": "execute_result",
          "data": {
            "text/plain": [
              "(1539, 100)"
            ]
          },
          "metadata": {},
          "execution_count": 11
        }
      ]
    },
    {
      "cell_type": "markdown",
      "metadata": {
        "id": "5bzUzscYVjlm"
      },
      "source": [
        "##### Checking the shape of the compressed_list after applying PCA"
      ]
    },
    {
      "cell_type": "code",
      "metadata": {
        "ExecuteTime": {
          "end_time": "2018-06-30T05:55:01.105289Z",
          "start_time": "2018-06-30T05:55:01.095715Z"
        },
        "colab": {
          "base_uri": "https://localhost:8080/"
        },
        "id": "9NwX_6EPVjln",
        "outputId": "08ed9464-c437-4abd-e286-25f0e5eac72a"
      },
      "source": [
        "compressed_list.shape"
      ],
      "execution_count": 12,
      "outputs": [
        {
          "output_type": "execute_result",
          "data": {
            "text/plain": [
              "(1539, 2)"
            ]
          },
          "metadata": {},
          "execution_count": 12
        }
      ]
    },
    {
      "cell_type": "markdown",
      "metadata": {
        "id": "vJnikQUJVjln"
      },
      "source": [
        "##### Let us find the location of some characters in word_list to get the locations"
      ]
    },
    {
      "cell_type": "code",
      "metadata": {
        "ExecuteTime": {
          "end_time": "2018-06-30T05:55:06.080485Z",
          "start_time": "2018-06-30T05:55:06.070111Z"
        },
        "colab": {
          "base_uri": "https://localhost:8080/"
        },
        "id": "LZ1hcGgHVjln",
        "outputId": "ca49c248-50ad-47cf-8e37-be2dd1907a73"
      },
      "source": [
        "characters = ['dussasana','sakuni','duryodhana','bhishma', 'krishna','madri','pandu', 'kunti', 'karna', 'bhima', 'arjuna', 'nakula', 'sahadeva', 'draupadi']\n",
        "locs = [np.where(words_list == x)[0][0] for x in characters]\n",
        "print(locs)"
      ],
      "execution_count": 13,
      "outputs": [
        {
          "output_type": "stream",
          "name": "stdout",
          "text": [
            "[1466, 1465, 1367, 19, 1122, 1350, 1109, 225, 1498, 1413, 1243, 1485, 1375, 1443]\n"
          ]
        }
      ]
    },
    {
      "cell_type": "markdown",
      "metadata": {
        "id": "Rt-kysGWVjlo"
      },
      "source": [
        "##### Let us Plot the data"
      ]
    },
    {
      "cell_type": "code",
      "metadata": {
        "ExecuteTime": {
          "end_time": "2018-06-30T05:55:10.380328Z",
          "start_time": "2018-06-30T05:55:10.121894Z"
        },
        "colab": {
          "base_uri": "https://localhost:8080/",
          "height": 320
        },
        "id": "14vY6e2PVjlo",
        "outputId": "50636878-944d-4306-b0cb-1014db89bd90"
      },
      "source": [
        "fig = plt.figure(figsize=(5,5))\n",
        "ax = fig.add_subplot(111)\n",
        "for character, pos in zip(characters, locs):\n",
        "    m = model_load.wv.get_vector(character)\n",
        "    value = pca.transform([m])[0]\n",
        "    ax.plot(value[0], value[1], \"gx\")\n",
        "    ax.annotate(words_list[pos], xy=value, xytext=value)\n",
        "plt.show()\n",
        "fig.savefig('word2vec.png')"
      ],
      "execution_count": 14,
      "outputs": [
        {
          "output_type": "display_data",
          "data": {
            "image/png": "[encoded data removed]",
            "text/plain": [
              "<Figure size 360x360 with 1 Axes>"
            ]
          },
          "metadata": {
            "needs_background": "light"
          }
        }
      ]
    },
    {
      "cell_type": "markdown",
      "metadata": {
        "id": "0JIeKOVnyeT7"
      },
      "source": [
        "###### Characters are grouped together based on word2vec learnt by the model."
      ]
    },
    {
      "cell_type": "markdown",
      "metadata": {
        "id": "qlUVTZNqVjlp"
      },
      "source": [
        "##### We will see the most similar characters related to characters list as shown below.\n",
        "\n",
        "##### characters = ['dussasana','sakuni','duryodhana','bhishma', 'krishna','madri','pandu', 'kunti', 'karna', 'bhima', 'arjuna', 'nakula', 'sahadeva', 'draupadi']"
      ]
    },
    {
      "cell_type": "code",
      "metadata": {
        "ExecuteTime": {
          "end_time": "2018-06-30T04:40:01.705867Z",
          "start_time": "2018-06-30T04:40:01.682697Z"
        },
        "colab": {
          "base_uri": "https://localhost:8080/"
        },
        "id": "fg1OsiEvVjlq",
        "outputId": "1ca52759-dcb0-4059-f67b-6d7ae7d45703"
      },
      "source": [
        "# Persons closer to the characters of our choice based on the word2vec model\n",
        "for character in characters:\n",
        "    near = model_load.wv.most_similar(character)[:5]\n",
        "    nearNames = [x[0] for x in near]\n",
        "    print(character, ':'.join(nearNames), sep=\"\\t\")"
      ],
      "execution_count": 15,
      "outputs": [
        {
          "output_type": "stream",
          "name": "stdout",
          "text": [
            "dussasana\tsakuni:duhsasana:vikarna:sahadeva:chitrasena\n",
            "sakuni\tdussasana:duhsasana:vikarna:sahadeva:valhika\n",
            "duryodhana\tdussasana:suyodhana:jayadratha:sakuni:dhritarashtra\n",
            "bhishma\tsalya:vaisampayana:sanjaya:phalguna:aswatthaman\n",
            "krishna\tkesava:vasudeva:govinda:madhava:dhananjaya\n",
            "madri\tvaliant:subhadra:nakula:prishata:somadatta\n",
            "pandu\tkunti:pritha:radha:suta:subhadra\n",
            "kunti\tpritha:radha:pandu:suta:subhadra\n",
            "karna\tyuyudhana:abhimanyu:bhagadatta:somadatta:sikhandin\n",
            "bhima\tbhimasena:vrikodara:abhimanyu:arjuna:dhananjaya\n",
            "arjuna\tpartha:dhananjaya:vibhatsu:bhima:kama\n",
            "nakula\tsahadeva:valhika:valiant:chitrasena:somadatta\n",
            "sahadeva\tnakula:valhika:sikhandin:dhrishtadyumna:vikarna\n",
            "draupadi\tdrupada:suvala:subhadra:madri:dussasana\n"
          ]
        }
      ]
    },
    {
      "cell_type": "code",
      "metadata": {
        "id": "w_WXGBgVVjlq"
      },
      "source": [
        "#TASK Modify the gensim word2vec model to train skip gram model.\n",
        "\n",
        "\n",
        "skipgram_model = gensim.models.Word2Vec(sentences, min_count=100, sg=1)\n",
        "skipgram_model = skipgram_model.save(\"MB2Vec_sg.bin\")\n",
        "model_load1 = gensim.models.Word2Vec.load('MB2Vec_sg.bin')\n"
      ],
      "execution_count": 16,
      "outputs": []
    },
    {
      "cell_type": "code",
      "metadata": {
        "colab": {
          "base_uri": "https://localhost:8080/"
        },
        "id": "lccZRwVfzone",
        "outputId": "5cf3c6b6-ca4f-4d35-e641-8dbc47de7e05"
      },
      "source": [
        "model_load1.wv.most_similar('krishna')[:3]"
      ],
      "execution_count": 17,
      "outputs": [
        {
          "output_type": "execute_result",
          "data": {
            "text/plain": [
              "[('kesava', 0.7680883407592773),\n",
              " ('vasudeva', 0.75233393907547),\n",
              " ('govinda', 0.716886043548584)]"
            ]
          },
          "metadata": {},
          "execution_count": 17
        }
      ]
    },
    {
      "cell_type": "code",
      "metadata": {
        "colab": {
          "base_uri": "https://localhost:8080/"
        },
        "id": "MvjwUeJF1h3Y",
        "outputId": "af47da0f-bad8-4ae4-a1b4-9734b83dcfcb"
      },
      "source": [
        "model_load1.wv.most_similar('arjuna')[:3]"
      ],
      "execution_count": 18,
      "outputs": [
        {
          "output_type": "execute_result",
          "data": {
            "text/plain": [
              "[('partha', 0.7983713150024414),\n",
              " ('phalguna', 0.7659530639648438),\n",
              " ('dhananjaya', 0.7427254915237427)]"
            ]
          },
          "metadata": {},
          "execution_count": 18
        }
      ]
    },
    {
      "cell_type": "code",
      "metadata": {
        "colab": {
          "base_uri": "https://localhost:8080/"
        },
        "id": "ImMTGVH11vE1",
        "outputId": "2123cb42-a8dd-4d32-9003-6a978e17685b"
      },
      "source": [
        "model_load1.wv.most_similar('virata')[:3]"
      ],
      "execution_count": 19,
      "outputs": [
        {
          "output_type": "execute_result",
          "data": {
            "text/plain": [
              "[('drupada', 0.8777790069580078),\n",
              " ('kasi', 0.8138987421989441),\n",
              " ('magadha', 0.8096978664398193)]"
            ]
          },
          "metadata": {},
          "execution_count": 19
        }
      ]
    },
    {
      "cell_type": "code",
      "metadata": {
        "id": "ALGfu4fe14kt"
      },
      "source": [
        "words_list_sg = np.array([])\n",
        "vector_list_sg = np.array([])\n",
        "for i in model_load1.wv.vocab:\n",
        "    # print(i)\n",
        "    try :\n",
        "        words_list_sg = np.append(words_list_sg, i)\n",
        "        vector_list_sg = np.append(vector_list_sg, model_load1.wv[i])\n",
        "    except :\n",
        "        pass\n",
        "vector_list_sg = vector_list_sg.reshape(len(model_load1.wv.vocab), -1)"
      ],
      "execution_count": 28,
      "outputs": []
    },
    {
      "cell_type": "code",
      "metadata": {
        "colab": {
          "base_uri": "https://localhost:8080/"
        },
        "id": "M-pJr9rm2WgU",
        "outputId": "8c6c2356-f980-44b9-bc50-c39c4fa085ea"
      },
      "source": [
        "vector_list_sg"
      ],
      "execution_count": 21,
      "outputs": [
        {
          "output_type": "execute_result",
          "data": {
            "text/plain": [
              "array([-0.30189839,  0.36715594, -0.11348154, ..., -0.00476296,\n",
              "       -0.08036777,  0.05653119])"
            ]
          },
          "metadata": {},
          "execution_count": 21
        }
      ]
    },
    {
      "cell_type": "code",
      "metadata": {
        "id": "4RN2fpLI2XX_"
      },
      "source": [
        "pca = PCA(n_components=2)\n",
        "pca.fit(vector_list_sg)\n",
        "compressed_list_sg =pca.transform(vector_list_sg)"
      ],
      "execution_count": 29,
      "outputs": []
    },
    {
      "cell_type": "code",
      "metadata": {
        "colab": {
          "base_uri": "https://localhost:8080/"
        },
        "id": "lDX0GbKq2lPj",
        "outputId": "e37e1f6f-745b-4c79-c019-d82e88e80225"
      },
      "source": [
        "vector_list_sg.shape"
      ],
      "execution_count": 23,
      "outputs": [
        {
          "output_type": "execute_result",
          "data": {
            "text/plain": [
              "(170100,)"
            ]
          },
          "metadata": {},
          "execution_count": 23
        }
      ]
    },
    {
      "cell_type": "code",
      "metadata": {
        "colab": {
          "base_uri": "https://localhost:8080/"
        },
        "id": "TfJKiB4V2x27",
        "outputId": "7cd9331e-683b-45e2-c599-44612d24f91d"
      },
      "source": [
        "compressed_list_sg.shape\n"
      ],
      "execution_count": 30,
      "outputs": [
        {
          "output_type": "execute_result",
          "data": {
            "text/plain": [
              "(1701, 2)"
            ]
          },
          "metadata": {},
          "execution_count": 30
        }
      ]
    },
    {
      "cell_type": "code",
      "metadata": {
        "colab": {
          "base_uri": "https://localhost:8080/"
        },
        "id": "SQpCZeBk25BB",
        "outputId": "3aac6ab2-e8df-41b3-d2cc-64e85fd36552"
      },
      "source": [
        "characters_sg = ['dussasana','sakuni','duryodhana','bhishma', 'krishna','madri','pandu', 'kunti', 'karna', 'bhima', 'arjuna', 'nakula', 'sahadeva', 'draupadi']\n",
        "locs_sg = [np.where(words_list_sg == x)[0][0] for x in characters_sg]\n",
        "print(locs)"
      ],
      "execution_count": 25,
      "outputs": [
        {
          "output_type": "stream",
          "name": "stdout",
          "text": [
            "[1466, 1465, 1367, 19, 1122, 1350, 1109, 225, 1498, 1413, 1243, 1485, 1375, 1443]\n"
          ]
        }
      ]
    },
    {
      "cell_type": "code",
      "metadata": {
        "colab": {
          "base_uri": "https://localhost:8080/",
          "height": 320
        },
        "id": "cVW9VX1F3N1e",
        "outputId": "63b2fee0-6fc9-4ac8-9b72-9b5bc0e142e7"
      },
      "source": [
        "fig = plt.figure(figsize=(5,5))\n",
        "ax = fig.add_subplot(111)\n",
        "for character_sg, pos in zip(characters_sg, locs_sg):\n",
        "    m = model_load1.wv.get_vector(character_sg)\n",
        "    value = pca.transform([m])[0]\n",
        "    ax.plot(value[0], value[1], \"gx\")\n",
        "    ax.annotate(words_list_sg[pos], xy=value, xytext=value)\n",
        "plt.show()\n",
        "fig.savefig('word2vec_sg.png')"
      ],
      "execution_count": 31,
      "outputs": [
        {
          "output_type": "display_data",
          "data": {
            "image/png": "[encoded data removed]",
            "text/plain": [
              "<Figure size 360x360 with 1 Axes>"
            ]
          },
          "metadata": {
            "needs_background": "light"
          }
        }
      ]
    },
    {
      "cell_type": "code",
      "metadata": {
        "colab": {
          "base_uri": "https://localhost:8080/"
        },
        "id": "blMCySKR_H37",
        "outputId": "ebaca5b1-1f5d-439f-a53a-0d48cba500a8"
      },
      "source": [
        "# Persons closer to the characters of our choice based on the word2vec model\n",
        "for character_sg in characters_sg:\n",
        "    near = model_load1.wv.most_similar(character_sg)[:5]\n",
        "    nearNames = [x[0] for x in near]\n",
        "    print(character_sg, ':'.join(nearNames), sep=\"\\t\")"
      ],
      "execution_count": 27,
      "outputs": [
        {
          "output_type": "stream",
          "name": "stdout",
          "text": [
            "dussasana\tsakuni:duhsasana:vikarna:suvala:somadatta\n",
            "sakuni\tsuvala:dussasana:duhsasana:vikarna:valhika\n",
            "duryodhana\tsuyodhana:dussasana:jayadratha:sakuni:suvala\n",
            "bhishma\tsomadatta:salya:savyasachin:bhurisrava:aswatthaman\n",
            "krishna\tkesava:vasudeva:govinda:madhava:vibhatsu\n",
            "madri\tprishata:sahadeva:nakula:subhadra:valiant\n",
            "pandu\tkunti:pritha:madri:subhadra:radha\n",
            "kunti\tpritha:pandu:radha:madri:subhadra\n",
            "karna\tduhsasana:jayadratha:bhagadatta:yuyudhana:kichaka\n",
            "bhima\tbhimasena:vrikodara:ghatotkacha:janardana:lakshmana\n",
            "arjuna\tpartha:phalguna:dhananjaya:vibhatsu:janardana\n",
            "nakula\tsahadeva:madri:yuyudhana:chitrasena:duhsasana\n",
            "sahadeva\tnakula:madri:duhsasana:chitrasena:satyaki\n",
            "draupadi\tsubhadra:drupada:princess:virata:madri\n"
          ]
        }
      ]
    }
  ]
}